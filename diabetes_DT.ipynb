{
  "cells": [
    {
      "cell_type": "markdown",
      "id": "cfb0dc95",
      "metadata": {
        "id": "cfb0dc95"
      },
      "source": []
    },
    {
      "cell_type": "markdown",
      "id": "4612735f",
      "metadata": {
        "id": "4612735f"
      },
      "source": [
        "**Ensemble de données :** Cet ensemble de données provient de l’Institut national du diabète et des maladies digestives et rénales. L’objectif de l’ensemble de données est de prédire de façon diagnostique si un patient est diabétique ou non, en fonction de certaines mesures diagnostiques incluses dans l’ensemble de données.\n",
        "\n",
        " **Objectif** : Le principal objectif est de classifier si une personne perticulaire est diabétique ou non à l’aide de plusieurs variables indépendantes données dans l’ensemble de données.\n",
        "\n",
        "**Description de l’ensemble de données :** Les ensembles de données comprennent 9 variables indépendantes et une variable dépendante:\t\t\t\t\t\n",
        "- Pregnancies : Nombre de grossesses\n",
        "-Glucose : concentration plasmatique de glucose de 2 heures dans un test de tolérance au glucose par voie orale\n",
        "-BloodPressure : pression artérielle diastolique (mm Hg)\n",
        "-SkinThickness Épaisseur du pli triceps (mm)\n",
        "-Insulin : insuline sérique de 2 heures (mu U/ml)\n",
        "-BMI : Indice de masse corporelle (poids en kg/(hauteur en m) 2)\n",
        "-DiabetesPedigreeFunction : Fonction pedigree de diabète\n",
        "-Age : Âge (années)\n",
        "-Outcome : 1 comme diabites détectés et 0 comme non détraqués"
      ]
    },
    {
      "cell_type": "code",
      "execution_count": null,
      "id": "d95fd47a",
      "metadata": {
        "colab": {
          "base_uri": "https://localhost:8080/"
        },
        "id": "d95fd47a",
        "outputId": "db7d4405-aeb3-43ea-ad56-43a85e1e7984"
      },
      "outputs": [
        {
          "metadata": {
            "tags": null
          },
          "name": "stderr",
          "output_type": "stream",
          "text": [
            "Installing package into ‘/usr/local/lib/R/site-library’\n",
            "(as ‘lib’ is unspecified)\n",
            "\n",
            "Installing package into ‘/usr/local/lib/R/site-library’\n",
            "(as ‘lib’ is unspecified)\n",
            "\n",
            "Installing package into ‘/usr/local/lib/R/site-library’\n",
            "(as ‘lib’ is unspecified)\n",
            "\n",
            "Installing package into ‘/usr/local/lib/R/site-library’\n",
            "(as ‘lib’ is unspecified)\n",
            "\n",
            "also installing the dependencies ‘listenv’, ‘parallelly’, ‘future’, ‘globals’, ‘future.apply’, ‘progressr’, ‘numDeriv’, ‘SQUAREM’, ‘lava’, ‘prodlim’, ‘proxy’, ‘iterators’, ‘gower’, ‘ipred’, ‘timeDate’, ‘e1071’, ‘foreach’, ‘ModelMetrics’, ‘plyr’, ‘pROC’, ‘recipes’, ‘reshape2’\n",
            "\n",
            "\n"
          ]
        }
      ],
      "source": [
        "install.packages(\"rpart\")\n",
        "install.packages(\"rpart.plot\")\n",
        "install.packages(\"ISLR\")\n",
        "install.packages(\"caret\")"
      ]
    },
    {
      "cell_type": "code",
      "execution_count": null,
      "id": "2bcca43e",
      "metadata": {
        "colab": {
          "base_uri": "https://localhost:8080/"
        },
        "id": "2bcca43e",
        "outputId": "54494d76-6606-4208-ee76-3ac0f69a358c"
      },
      "outputs": [
        {
          "output_type": "stream",
          "name": "stderr",
          "text": [
            "Loading required package: ggplot2\n",
            "\n",
            "Loading required package: lattice\n",
            "\n"
          ]
        }
      ],
      "source": [
        "library(caret)\n"
      ]
    },
    {
      "cell_type": "code",
      "execution_count": null,
      "id": "f5bbd67f",
      "metadata": {
        "id": "f5bbd67f"
      },
      "outputs": [],
      "source": [
        "# Pour le modèle de CART\n",
        "library(rpart)\n",
        "# Pour la visualisation de l'arbre de décision\n",
        "library(rpart.plot)\n",
        "# Contient le dataest \"Carseats\" qu'on va utiliser pour l'implémentation\n",
        "library(ISLR)\n",
        "# pour ignorer les warning\n",
        "options(warn=-1)"
      ]
    },
    {
      "cell_type": "code",
      "execution_count": null,
      "id": "653213b1",
      "metadata": {
        "colab": {
          "base_uri": "https://localhost:8080/",
          "height": 286
        },
        "id": "653213b1",
        "outputId": "fc8eeb6d-c419-42b7-8a82-17c2be3cc3dc"
      },
      "outputs": [
        {
          "output_type": "display_data",
          "data": {
            "text/plain": [
              "  Pregnancies Glucose BloodPressure SkinThickness Insulin BMI \n",
              "1 6           148     72            35              0     33.6\n",
              "2 1            85     66            29              0     26.6\n",
              "3 8           183     64             0              0     23.3\n",
              "4 1            89     66            23             94     28.1\n",
              "5 0           137     40            35            168     43.1\n",
              "6 5           116     74             0              0     25.6\n",
              "  DiabetesPedigreeFunction Age Outcome\n",
              "1 0.627                    50  1      \n",
              "2 0.351                    31  0      \n",
              "3 0.672                    32  1      \n",
              "4 0.167                    21  0      \n",
              "5 2.288                    33  1      \n",
              "6 0.201                    30  0      "
            ],
            "text/latex": "A data.frame: 6 × 9\n\\begin{tabular}{r|lllllllll}\n  & Pregnancies & Glucose & BloodPressure & SkinThickness & Insulin & BMI & DiabetesPedigreeFunction & Age & Outcome\\\\\n  & <int> & <int> & <int> & <int> & <int> & <dbl> & <dbl> & <int> & <int>\\\\\n\\hline\n\t1 & 6 & 148 & 72 & 35 &   0 & 33.6 & 0.627 & 50 & 1\\\\\n\t2 & 1 &  85 & 66 & 29 &   0 & 26.6 & 0.351 & 31 & 0\\\\\n\t3 & 8 & 183 & 64 &  0 &   0 & 23.3 & 0.672 & 32 & 1\\\\\n\t4 & 1 &  89 & 66 & 23 &  94 & 28.1 & 0.167 & 21 & 0\\\\\n\t5 & 0 & 137 & 40 & 35 & 168 & 43.1 & 2.288 & 33 & 1\\\\\n\t6 & 5 & 116 & 74 &  0 &   0 & 25.6 & 0.201 & 30 & 0\\\\\n\\end{tabular}\n",
            "text/markdown": "\nA data.frame: 6 × 9\n\n| <!--/--> | Pregnancies &lt;int&gt; | Glucose &lt;int&gt; | BloodPressure &lt;int&gt; | SkinThickness &lt;int&gt; | Insulin &lt;int&gt; | BMI &lt;dbl&gt; | DiabetesPedigreeFunction &lt;dbl&gt; | Age &lt;int&gt; | Outcome &lt;int&gt; |\n|---|---|---|---|---|---|---|---|---|---|\n| 1 | 6 | 148 | 72 | 35 |   0 | 33.6 | 0.627 | 50 | 1 |\n| 2 | 1 |  85 | 66 | 29 |   0 | 26.6 | 0.351 | 31 | 0 |\n| 3 | 8 | 183 | 64 |  0 |   0 | 23.3 | 0.672 | 32 | 1 |\n| 4 | 1 |  89 | 66 | 23 |  94 | 28.1 | 0.167 | 21 | 0 |\n| 5 | 0 | 137 | 40 | 35 | 168 | 43.1 | 2.288 | 33 | 1 |\n| 6 | 5 | 116 | 74 |  0 |   0 | 25.6 | 0.201 | 30 | 0 |\n\n",
            "text/html": [
              "<table class=\"dataframe\">\n",
              "<caption>A data.frame: 6 × 9</caption>\n",
              "<thead>\n",
              "\t<tr><th></th><th scope=col>Pregnancies</th><th scope=col>Glucose</th><th scope=col>BloodPressure</th><th scope=col>SkinThickness</th><th scope=col>Insulin</th><th scope=col>BMI</th><th scope=col>DiabetesPedigreeFunction</th><th scope=col>Age</th><th scope=col>Outcome</th></tr>\n",
              "\t<tr><th></th><th scope=col>&lt;int&gt;</th><th scope=col>&lt;int&gt;</th><th scope=col>&lt;int&gt;</th><th scope=col>&lt;int&gt;</th><th scope=col>&lt;int&gt;</th><th scope=col>&lt;dbl&gt;</th><th scope=col>&lt;dbl&gt;</th><th scope=col>&lt;int&gt;</th><th scope=col>&lt;int&gt;</th></tr>\n",
              "</thead>\n",
              "<tbody>\n",
              "\t<tr><th scope=row>1</th><td>6</td><td>148</td><td>72</td><td>35</td><td>  0</td><td>33.6</td><td>0.627</td><td>50</td><td>1</td></tr>\n",
              "\t<tr><th scope=row>2</th><td>1</td><td> 85</td><td>66</td><td>29</td><td>  0</td><td>26.6</td><td>0.351</td><td>31</td><td>0</td></tr>\n",
              "\t<tr><th scope=row>3</th><td>8</td><td>183</td><td>64</td><td> 0</td><td>  0</td><td>23.3</td><td>0.672</td><td>32</td><td>1</td></tr>\n",
              "\t<tr><th scope=row>4</th><td>1</td><td> 89</td><td>66</td><td>23</td><td> 94</td><td>28.1</td><td>0.167</td><td>21</td><td>0</td></tr>\n",
              "\t<tr><th scope=row>5</th><td>0</td><td>137</td><td>40</td><td>35</td><td>168</td><td>43.1</td><td>2.288</td><td>33</td><td>1</td></tr>\n",
              "\t<tr><th scope=row>6</th><td>5</td><td>116</td><td>74</td><td> 0</td><td>  0</td><td>25.6</td><td>0.201</td><td>30</td><td>0</td></tr>\n",
              "</tbody>\n",
              "</table>\n"
            ]
          },
          "metadata": {}
        }
      ],
      "source": [
        "#read file diabetes\n",
        "diabetes<-read.csv(\"/content/diabetes.csv\",header = T) \n",
        "head(diabetes)"
      ]
    },
    {
      "cell_type": "code",
      "execution_count": null,
      "id": "26c7258e",
      "metadata": {
        "colab": {
          "base_uri": "https://localhost:8080/",
          "height": 382
        },
        "id": "26c7258e",
        "outputId": "397be8be-8c79-445d-c5f4-25560e421bbe"
      },
      "outputs": [
        {
          "output_type": "display_data",
          "data": {
            "text/plain": [
              "  Pregnancies        Glucose      BloodPressure    SkinThickness  \n",
              " Min.   : 0.000   Min.   :  0.0   Min.   :  0.00   Min.   : 0.00  \n",
              " 1st Qu.: 1.000   1st Qu.: 99.0   1st Qu.: 62.00   1st Qu.: 0.00  \n",
              " Median : 3.000   Median :117.0   Median : 72.00   Median :23.00  \n",
              " Mean   : 3.845   Mean   :120.9   Mean   : 69.11   Mean   :20.54  \n",
              " 3rd Qu.: 6.000   3rd Qu.:140.2   3rd Qu.: 80.00   3rd Qu.:32.00  \n",
              " Max.   :17.000   Max.   :199.0   Max.   :122.00   Max.   :99.00  \n",
              "    Insulin           BMI        DiabetesPedigreeFunction      Age       \n",
              " Min.   :  0.0   Min.   : 0.00   Min.   :0.0780           Min.   :21.00  \n",
              " 1st Qu.:  0.0   1st Qu.:27.30   1st Qu.:0.2437           1st Qu.:24.00  \n",
              " Median : 30.5   Median :32.00   Median :0.3725           Median :29.00  \n",
              " Mean   : 79.8   Mean   :31.99   Mean   :0.4719           Mean   :33.24  \n",
              " 3rd Qu.:127.2   3rd Qu.:36.60   3rd Qu.:0.6262           3rd Qu.:41.00  \n",
              " Max.   :846.0   Max.   :67.10   Max.   :2.4200           Max.   :81.00  \n",
              "    Outcome     \n",
              " Min.   :0.000  \n",
              " 1st Qu.:0.000  \n",
              " Median :0.000  \n",
              " Mean   :0.349  \n",
              " 3rd Qu.:1.000  \n",
              " Max.   :1.000  "
            ]
          },
          "metadata": {}
        }
      ],
      "source": [
        "summary(diabetes)"
      ]
    },
    {
      "cell_type": "code",
      "execution_count": null,
      "id": "a9a128b4",
      "metadata": {
        "colab": {
          "base_uri": "https://localhost:8080/"
        },
        "id": "a9a128b4",
        "outputId": "bca904cd-e48e-49e4-b7b0-e0c4abc56473"
      },
      "outputs": [
        {
          "output_type": "stream",
          "name": "stdout",
          "text": [
            "'data.frame':\t768 obs. of  9 variables:\n",
            " $ Pregnancies             : int  6 1 8 1 0 5 3 10 2 8 ...\n",
            " $ Glucose                 : int  148 85 183 89 137 116 78 115 197 125 ...\n",
            " $ BloodPressure           : int  72 66 64 66 40 74 50 0 70 96 ...\n",
            " $ SkinThickness           : int  35 29 0 23 35 0 32 0 45 0 ...\n",
            " $ Insulin                 : int  0 0 0 94 168 0 88 0 543 0 ...\n",
            " $ BMI                     : num  33.6 26.6 23.3 28.1 43.1 25.6 31 35.3 30.5 0 ...\n",
            " $ DiabetesPedigreeFunction: num  0.627 0.351 0.672 0.167 2.288 ...\n",
            " $ Age                     : int  50 31 32 21 33 30 26 29 53 54 ...\n",
            " $ Outcome                 : int  1 0 1 0 1 0 1 0 1 1 ...\n"
          ]
        }
      ],
      "source": [
        "str(diabetes)"
      ]
    },
    {
      "cell_type": "code",
      "execution_count": null,
      "id": "8d571073",
      "metadata": {
        "id": "8d571073"
      },
      "outputs": [],
      "source": [
        "set.seed(2)\n",
        "# en utilisant la fonction sample() pour diviser les données en ensemble d'entraînement et  de test\n",
        "id <- sample(2,nrow(diabetes),prob = c(0.7,0.3),replace=TRUE)\n",
        "diabetes_train <- diabetes[id==1,]\n",
        "diabetes_test <- diabetes[id==2,]"
      ]
    },
    {
      "cell_type": "markdown",
      "id": "3a93a43a",
      "metadata": {
        "id": "3a93a43a"
      },
      "source": [
        "## Arbre de décision pour la régression"
      ]
    },
    {
      "cell_type": "markdown",
      "id": "a94d9277",
      "metadata": {
        "id": "a94d9277"
      },
      "source": [
        " ### Entraînement l'arbre de décision"
      ]
    },
    {
      "cell_type": "code",
      "execution_count": null,
      "id": "f2203390",
      "metadata": {
        "colab": {
          "base_uri": "https://localhost:8080/",
          "height": 677
        },
        "id": "f2203390",
        "outputId": "f3e69634-117d-45f9-faa1-044f2a2cc590"
      },
      "outputs": [
        {
          "output_type": "display_data",
          "data": {
            "text/plain": [
              "n= 532 \n",
              "\n",
              "node), split, n, loss, yval, (yprob)\n",
              "      * denotes terminal node\n",
              "\n",
              "   1) root 532 184 0 (0.65413534 0.34586466)  \n",
              "     2) Glucose< 157.5 462 125 0 (0.72943723 0.27056277)  \n",
              "       4) BMI< 26.75 114   4 0 (0.96491228 0.03508772) *\n",
              "       5) BMI>=26.75 348 121 0 (0.65229885 0.34770115)  \n",
              "        10) Glucose< 99.5 92  14 0 (0.84782609 0.15217391) *\n",
              "        11) Glucose>=99.5 256 107 0 (0.58203125 0.41796875)  \n",
              "          22) Age< 28.5 108  29 0 (0.73148148 0.26851852)  \n",
              "            44) SkinThickness>=5 89  17 0 (0.80898876 0.19101124) *\n",
              "            45) SkinThickness< 5 19   7 1 (0.36842105 0.63157895) *\n",
              "          23) Age>=28.5 148  70 1 (0.47297297 0.52702703)  \n",
              "            46) DiabetesPedigreeFunction< 0.2225 25   7 0 (0.72000000 0.28000000) *\n",
              "            47) DiabetesPedigreeFunction>=0.2225 123  52 1 (0.42276423 0.57723577)  \n",
              "              94) BMI< 43.1 112  52 1 (0.46428571 0.53571429)  \n",
              "               188) BloodPressure>=83 30  11 0 (0.63333333 0.36666667)  \n",
              "                 376) Pregnancies>=1.5 23   5 0 (0.78260870 0.21739130) *\n",
              "                 377) Pregnancies< 1.5 7   1 1 (0.14285714 0.85714286) *\n",
              "               189) BloodPressure< 83 82  33 1 (0.40243902 0.59756098)  \n",
              "                 378) Pregnancies< 10.5 75  33 1 (0.44000000 0.56000000)  \n",
              "                   756) Glucose>=119.5 42  19 0 (0.54761905 0.45238095)  \n",
              "                    1512) Age< 42.5 30  10 0 (0.66666667 0.33333333)  \n",
              "                      3024) Age>=38.5 9   0 0 (1.00000000 0.00000000) *\n",
              "                      3025) Age< 38.5 21  10 0 (0.52380952 0.47619048)  \n",
              "                        6050) Pregnancies>=3.5 14   5 0 (0.64285714 0.35714286) *\n",
              "                        6051) Pregnancies< 3.5 7   2 1 (0.28571429 0.71428571) *\n",
              "                    1513) Age>=42.5 12   3 1 (0.25000000 0.75000000) *\n",
              "                   757) Glucose< 119.5 33  10 1 (0.30303030 0.69696970)  \n",
              "                    1514) Pregnancies< 6.5 21   9 1 (0.42857143 0.57142857)  \n",
              "                      3028) Glucose< 111.5 13   5 0 (0.61538462 0.38461538) *\n",
              "                      3029) Glucose>=111.5 8   1 1 (0.12500000 0.87500000) *\n",
              "                    1515) Pregnancies>=6.5 12   1 1 (0.08333333 0.91666667) *\n",
              "                 379) Pregnancies>=10.5 7   0 1 (0.00000000 1.00000000) *\n",
              "              95) BMI>=43.1 11   0 1 (0.00000000 1.00000000) *\n",
              "     3) Glucose>=157.5 70  11 1 (0.15714286 0.84285714) *"
            ]
          },
          "metadata": {}
        }
      ],
      "source": [
        "fit.tree = rpart(Outcome ~ ., data=diabetes_train, method = \"class\", cp=0.008)\n",
        "fit.tree"
      ]
    },
    {
      "cell_type": "code",
      "execution_count": null,
      "id": "8e35cb06",
      "metadata": {
        "colab": {
          "base_uri": "https://localhost:8080/",
          "height": 437
        },
        "id": "8e35cb06",
        "outputId": "d42505f2-c3d8-4936-860f-2e0a7f053f02"
      },
      "outputs": [
        {
          "output_type": "display_data",
          "data": {
            "image/png": "[encoded data removed]",
            "text/plain": [
              "plot without title"
            ]
          },
          "metadata": {
            "image/png": {
              "width": 420,
              "height": 420
            }
          }
        }
      ],
      "source": [
        "# Tracer les arbres\n",
        "par(xpd = NA) # Évitez de couper le texte dans certains dispositifs\n",
        "plot(fit.tree)\n",
        "text(fit.tree, digits = 3)"
      ]
    },
    {
      "cell_type": "code",
      "execution_count": null,
      "id": "afd72027",
      "metadata": {
        "colab": {
          "base_uri": "https://localhost:8080/",
          "height": 437
        },
        "id": "afd72027",
        "outputId": "60563db8-978d-4c6b-fbaf-4098d87e927c"
      },
      "outputs": [
        {
          "output_type": "display_data",
          "data": {
            "image/png": "[encoded data removed]",
            "text/plain": [
              "plot without title"
            ]
          },
          "metadata": {
            "image/png": {
              "width": 420,
              "height": 420
            }
          }
        }
      ],
      "source": [
        "rpart.plot(fit.tree)"
      ]
    },
    {
      "cell_type": "markdown",
      "id": "e4d23fad",
      "metadata": {
        "id": "e4d23fad"
      },
      "source": [
        "#### Prédiction sur ensemble de test et évaluation"
      ]
    },
    {
      "cell_type": "code",
      "execution_count": null,
      "id": "889a1c03",
      "metadata": {
        "id": "889a1c03"
      },
      "outputs": [],
      "source": [
        "# Faire des prédictions sur les données du test\n",
        "pred.tree = predict(fit.tree, diabetes_test,type = \"class\")"
      ]
    },
    {
      "cell_type": "code",
      "execution_count": null,
      "id": "18b22c99",
      "metadata": {
        "colab": {
          "base_uri": "https://localhost:8080/",
          "height": 472
        },
        "id": "18b22c99",
        "outputId": "a88f524e-6018-4dd9-e921-09a097a45d52"
      },
      "outputs": [
        {
          "output_type": "display_data",
          "data": {
            "text/plain": [
              " 2  5  6  8 13 16 \n",
              " 0  1  0  0  1  1 \n",
              "Levels: 0 1"
            ],
            "text/latex": "\\begin{description*}\n\\item[2] 0\n\\item[5] 1\n\\item[6] 0\n\\item[8] 0\n\\item[13] 1\n\\item[16] 1\n\\end{description*}\n\n\\emph{Levels}: \\begin{enumerate*}\n\\item '0'\n\\item '1'\n\\end{enumerate*}\n",
            "text/markdown": "2\n:   05\n:   16\n:   08\n:   013\n:   116\n:   1\n\n\n**Levels**: 1. '0'\n2. '1'\n\n\n",
            "text/html": [
              "<style>\n",
              ".dl-inline {width: auto; margin:0; padding: 0}\n",
              ".dl-inline>dt, .dl-inline>dd {float: none; width: auto; display: inline-block}\n",
              ".dl-inline>dt::after {content: \":\\0020\"; padding-right: .5ex}\n",
              ".dl-inline>dt:not(:first-of-type) {padding-left: .5ex}\n",
              "</style><dl class=dl-inline><dt>2</dt><dd>0</dd><dt>5</dt><dd>1</dd><dt>6</dt><dd>0</dd><dt>8</dt><dd>0</dd><dt>13</dt><dd>1</dd><dt>16</dt><dd>1</dd></dl>\n",
              "\n",
              "<details>\n",
              "\t<summary style=display:list-item;cursor:pointer>\n",
              "\t\t<strong>Levels</strong>:\n",
              "\t</summary>\n",
              "\t<style>\n",
              "\t.list-inline {list-style: none; margin:0; padding: 0}\n",
              "\t.list-inline>li {display: inline-block}\n",
              "\t.list-inline>li:not(:last-child)::after {content: \"\\00b7\"; padding: 0 .5ex}\n",
              "\t</style>\n",
              "\t<ol class=list-inline><li>'0'</li><li>'1'</li></ol>\n",
              "</details>"
            ]
          },
          "metadata": {}
        },
        {
          "output_type": "display_data",
          "data": {
            "image/png": "[encoded data removed]",
            "text/plain": [
              "plot without title"
            ]
          },
          "metadata": {
            "image/png": {
              "width": 420,
              "height": 420
            }
          }
        }
      ],
      "source": [
        "head(pred.tree)\n",
        "plot(pred.tree)"
      ]
    },
    {
      "cell_type": "code",
      "execution_count": null,
      "id": "1f4dcca1",
      "metadata": {
        "colab": {
          "base_uri": "https://localhost:8080/",
          "height": 34
        },
        "id": "1f4dcca1",
        "outputId": "f39e27b0-1edd-42ad-eeae-3c72081f00b9"
      },
      "outputs": [
        {
          "output_type": "display_data",
          "data": {
            "text/plain": [
              "[1] 0.7669492"
            ],
            "text/latex": "0.766949152542373",
            "text/markdown": "0.766949152542373",
            "text/html": [
              "0.766949152542373"
            ]
          },
          "metadata": {}
        }
      ],
      "source": [
        "# Calculer le taux de précision du modèle sur les données de test\n",
        "mean(pred.tree == diabetes_test$Outcome)"
      ]
    },
    {
      "cell_type": "markdown",
      "id": "b9fcc500",
      "metadata": {
        "id": "b9fcc500"
      },
      "source": [
        "### Élagage "
      ]
    },
    {
      "cell_type": "code",
      "execution_count": null,
      "id": "27e9831b",
      "metadata": {
        "colab": {
          "base_uri": "https://localhost:8080/",
          "height": 391
        },
        "id": "27e9831b",
        "outputId": "37413978-615c-4988-a32f-a74b51c8856d"
      },
      "outputs": [
        {
          "output_type": "stream",
          "name": "stdout",
          "text": [
            "Something is wrong; all the RMSE metric values are missing:\n",
            "      RMSE        Rsquared        MAE     \n",
            " Min.   : NA   Min.   : NA   Min.   : NA  \n",
            " 1st Qu.: NA   1st Qu.: NA   1st Qu.: NA  \n",
            " Median : NA   Median : NA   Median : NA  \n",
            " Mean   :NaN   Mean   :NaN   Mean   :NaN  \n",
            " 3rd Qu.: NA   3rd Qu.: NA   3rd Qu.: NA  \n",
            " Max.   : NA   Max.   : NA   Max.   : NA  \n",
            " NA's   :10    NA's   :10    NA's   :10   \n"
          ]
        },
        {
          "output_type": "error",
          "ename": "ERROR",
          "evalue": "ignored",
          "traceback": [
            "Error: Stopping\nTraceback:\n",
            "1. train(formula = outcome ~ ., data = diabetes_train, method = \"rpart\", \n .     trControl = trainControl(\"cv\", number = 10), tuneLength = 10)",
            "2. train.formula(formula = outcome ~ ., data = diabetes_train, method = \"rpart\", \n .     trControl = trainControl(\"cv\", number = 10), tuneLength = 10)",
            "3. train(x, y, weights = w, ...)",
            "4. train.default(x, y, weights = w, ...)",
            "5. stop(\"Stopping\", call. = FALSE)"
          ]
        }
      ],
      "source": [
        "# Ajuster le modèle sur l'ensemble de données d'entrainement\n",
        "set.seed(123)\n",
        "model2 <- train(\n",
        "  formula = outcome ~., data = diabetes_train, method = \"rpart\",\n",
        "  trControl = trainControl(\"cv\", number = 10),\n",
        "  tuneLength = 10)"
      ]
    },
    {
      "cell_type": "code",
      "execution_count": null,
      "id": "301cde08",
      "metadata": {
        "colab": {
          "base_uri": "https://localhost:8080/",
          "height": 130
        },
        "id": "301cde08",
        "outputId": "971a933e-7877-4a36-8dd1-2a4e1055ef81"
      },
      "outputs": [
        {
          "output_type": "error",
          "ename": "ERROR",
          "evalue": "ignored",
          "traceback": [
            "Error in plot(model2): object 'model2' not found\nTraceback:\n",
            "1. plot(model2)"
          ]
        }
      ],
      "source": [
        "# Tracez la précision du modèle en fonction de différentes valeurs de cp (paramètre de complexité).\n",
        "plot(model2)"
      ]
    },
    {
      "cell_type": "code",
      "execution_count": null,
      "id": "5277db79",
      "metadata": {
        "id": "5277db79"
      },
      "outputs": [],
      "source": [
        "# Le meilleur paramètre de réglage cp qui maximise la précision du modèle\n",
        "model2$bestTune"
      ]
    },
    {
      "cell_type": "code",
      "execution_count": null,
      "id": "794d3513",
      "metadata": {
        "id": "794d3513"
      },
      "outputs": [],
      "source": [
        "# Traçer le modèle finale\n",
        "par(xpd = NA) # Évitez de couper le texte dans certains dispositifs\n",
        "plot(model2$finalModel)\n",
        "text(model2$finalModel,  digits = 3)"
      ]
    },
    {
      "cell_type": "code",
      "execution_count": null,
      "id": "07a78081",
      "metadata": {
        "id": "07a78081"
      },
      "outputs": [],
      "source": [
        "# Decision rules in the model\n",
        "model2$finalModel"
      ]
    },
    {
      "cell_type": "code",
      "execution_count": null,
      "id": "6eb8463e",
      "metadata": {
        "id": "6eb8463e"
      },
      "outputs": [],
      "source": []
    },
    {
      "cell_type": "code",
      "execution_count": null,
      "id": "ee98a5c9",
      "metadata": {
        "id": "ee98a5c9"
      },
      "outputs": [],
      "source": []
    },
    {
      "cell_type": "code",
      "execution_count": null,
      "id": "c7edcd28",
      "metadata": {
        "id": "c7edcd28"
      },
      "outputs": [],
      "source": []
    }
  ],
  "metadata": {
    "kernelspec": {
      "display_name": "R",
      "language": "R",
      "name": "ir"
    },
    "language_info": {
      "codemirror_mode": "r",
      "file_extension": ".r",
      "mimetype": "text/x-r-source",
      "name": "R",
      "pygments_lexer": "r",
      "version": "3.6.1"
    },
    "colab": {
      "provenance": [],
      "collapsed_sections": [],
      "toc_visible": true
    }
  },
  "nbformat": 4,
  "nbformat_minor": 5
}